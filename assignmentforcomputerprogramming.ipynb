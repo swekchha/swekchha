{
  "nbformat": 4,
  "nbformat_minor": 0,
  "metadata": {
    "colab": {
      "provenance": [],
      "authorship_tag": "ABX9TyPj35z2P6FVBGAW8etWlHw7",
      "include_colab_link": true
    },
    "kernelspec": {
      "name": "python3",
      "display_name": "Python 3"
    },
    "language_info": {
      "name": "python"
    }
  },
  "cells": [
    {
      "cell_type": "markdown",
      "metadata": {
        "id": "view-in-github",
        "colab_type": "text"
      },
      "source": [
        "<a href=\"https://colab.research.google.com/github/swekchha/swekchha/blob/main/assignmentforcomputerprogramming.ipynb\" target=\"_parent\"><img src=\"https://colab.research.google.com/assets/colab-badge.svg\" alt=\"Open In Colab\"/></a>"
      ]
    },
    {
      "cell_type": "code",
      "source": [
        "#question no.1\n",
        "lst = [10,3,1,9,2]\n",
        "def max_product(lst):\n",
        "  lst.sort()\n",
        "  a = len(lst)\n",
        "  print (lst[a-2]*lst[a-1])\n",
        "max_product(lst)\n"
      ],
      "metadata": {
        "colab": {
          "base_uri": "https://localhost:8080/"
        },
        "id": "q4924shN89TS",
        "outputId": "2a0828c5-9881-4a3e-8744-11d41bc68545"
      },
      "execution_count": 128,
      "outputs": [
        {
          "output_type": "stream",
          "name": "stdout",
          "text": [
            "90\n"
          ]
        }
      ]
    },
    {
      "cell_type": "code",
      "source": [
        "#question no.2\n",
        "def coords(fn, seq, lower, upper):\n",
        "  return [[x, fn(x)] for x in seq if lower<=fn(x)<=upper ]\n",
        "print(coords(lambda x: x**2,[-4,-2,0,1,3], 1,9))\n",
        "\n"
      ],
      "metadata": {
        "colab": {
          "base_uri": "https://localhost:8080/"
        },
        "id": "nCcNemmx-Cg1",
        "outputId": "7791aff6-af6b-48c3-8a59-1d19ab17b610"
      },
      "execution_count": 147,
      "outputs": [
        {
          "output_type": "stream",
          "name": "stdout",
          "text": [
            "[[-2, 4], [1, 1], [3, 9]]\n"
          ]
        }
      ]
    },
    {
      "cell_type": "code",
      "source": [
        "#question no.3\n",
        "lst = [-4,1,-2,0,3]\n",
        "newlst = []\n",
        "def sort(lst):\n",
        "  while lst:\n",
        "    m = lst[0]\n",
        "    for i in lst:\n",
        "        if i< m:\n",
        "            m = i\n",
        "    newlst.append(m)\n",
        "    lst.remove(m)\n",
        "  print(newlst)\n",
        "sort(lst)    \n"
      ],
      "metadata": {
        "colab": {
          "base_uri": "https://localhost:8080/"
        },
        "id": "cXV_QxCtAbhX",
        "outputId": "189af0ad-d49a-4c23-dac2-0910a56d3325"
      },
      "execution_count": 135,
      "outputs": [
        {
          "output_type": "stream",
          "name": "stdout",
          "text": [
            "[-4, -2, 0, 1, 3]\n"
          ]
        }
      ]
    },
    {
      "cell_type": "code",
      "source": [
        "#question no 4.\n",
        "def chk_elm(lst,n):\n",
        " for x in lst:\n",
        "  if n==x:\n",
        "    return True\n",
        "  else:\n",
        "    return False\n",
        "chk_elm([ [1,[2]], 3, [ [4], [5,[6]] ] ] , 9 )"
      ],
      "metadata": {
        "colab": {
          "base_uri": "https://localhost:8080/"
        },
        "id": "Vri2B1dZDTjh",
        "outputId": "a27fee8e-26b3-4d71-b504-3c22a9876e58"
      },
      "execution_count": 151,
      "outputs": [
        {
          "output_type": "execute_result",
          "data": {
            "text/plain": [
              "False"
            ]
          },
          "metadata": {},
          "execution_count": 151
        }
      ]
    }
  ]
}