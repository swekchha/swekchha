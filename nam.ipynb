{
  "nbformat": 4,
  "nbformat_minor": 0,
  "metadata": {
    "colab": {
      "provenance": [],
      "authorship_tag": "ABX9TyMrjYL4T5vQJNWtk7CwDm6q",
      "include_colab_link": true
    },
    "kernelspec": {
      "name": "python3",
      "display_name": "Python 3"
    },
    "language_info": {
      "name": "python"
    }
  },
  "cells": [
    {
      "cell_type": "markdown",
      "metadata": {
        "id": "view-in-github",
        "colab_type": "text"
      },
      "source": [
        "<a href=\"https://colab.research.google.com/github/swekchha/swekchha/blob/main/nam.ipynb\" target=\"_parent\"><img src=\"https://colab.research.google.com/assets/colab-badge.svg\" alt=\"Open In Colab\"/></a>"
      ]
    },
    {
      "cell_type": "code",
      "source": [
        "#question no 1.\n",
        "def fctrl(a):\n",
        "  v = 1\n",
        "  for i in range(1,a+1):\n",
        "    v = v*i\n",
        "  return v\n",
        "def approx_e(iter):\n",
        "  lst = []\n",
        "  for i in range(0,iter):\n",
        "    if i==0:\n",
        "      lst.append(1)\n",
        "      continue\n",
        "    lst.append(1/fctrl(i))  \n",
        "  print(sum(lst)) \n",
        "approx_e(100)    \n",
        " "
      ],
      "metadata": {
        "colab": {
          "base_uri": "https://localhost:8080/"
        },
        "id": "4-FlgxxfJhKu",
        "outputId": "0ed54d30-a518-44bd-b270-dadd92ab024c"
      },
      "execution_count": 12,
      "outputs": [
        {
          "output_type": "stream",
          "name": "stdout",
          "text": [
            "2.7182818284590455\n"
          ]
        }
      ]
    },
    {
      "cell_type": "code",
      "source": [
        "#question no 2.\n",
        "import math\n",
        "seq= [49,8,2,1,102]\n",
        "lst=[]\n",
        "def square(seq):\n",
        "  for i in seq:\n",
        "    res = int(math.sqrt(i))\n",
        "    if (res**2==i):\n",
        "     lst.append(i)\n",
        "    return(lst)\n",
        "square(seq)    \n",
        "\n"
      ],
      "metadata": {
        "colab": {
          "base_uri": "https://localhost:8080/"
        },
        "id": "U79VBI6JQYVd",
        "outputId": "0b63cdee-7c6e-442a-cb98-899516ad68da"
      },
      "execution_count": 13,
      "outputs": [
        {
          "output_type": "execute_result",
          "data": {
            "text/plain": [
              "[49]"
            ]
          },
          "metadata": {},
          "execution_count": 13
        }
      ]
    },
    {
      "cell_type": "code",
      "source": [
        "#question no 3.\n",
        "x = eval(input(\"Enter num: \"))\n",
        "el = eval(input(\"Enter actual num \"))\n",
        "lst = [1,2,4,3,1]\n",
        "def add_this_many(x,el,lst):\n",
        "  for i in lst:          \n",
        "    if i==x:              \n",
        "     co=lst.count(i)  \n",
        "  k=1 \n",
        "  while k<=co:               \n",
        "    lst.append(el)              \n",
        "    k+=1\n",
        "  return(lst)\n",
        "add_this_many(x,el,lst)"
      ],
      "metadata": {
        "colab": {
          "base_uri": "https://localhost:8080/"
        },
        "id": "8oOUv1X5W4Vr",
        "outputId": "07b9cc58-a97e-4923-c7e4-b31909306097"
      },
      "execution_count": 15,
      "outputs": [
        {
          "name": "stdout",
          "output_type": "stream",
          "text": [
            "Enter num: 2\n",
            "Enter actual num 7\n"
          ]
        },
        {
          "output_type": "execute_result",
          "data": {
            "text/plain": [
              "[1, 2, 4, 3, 1, 7]"
            ]
          },
          "metadata": {},
          "execution_count": 15
        }
      ]
    }
  ]
}