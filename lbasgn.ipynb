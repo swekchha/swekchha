{
  "nbformat": 4,
  "nbformat_minor": 0,
  "metadata": {
    "colab": {
      "provenance": [],
      "collapsed_sections": [],
      "authorship_tag": "ABX9TyMAK9GO4oywJYgmnZJbcAqb",
      "include_colab_link": true
    },
    "kernelspec": {
      "name": "python3",
      "display_name": "Python 3"
    },
    "language_info": {
      "name": "python"
    }
  },
  "cells": [
    {
      "cell_type": "markdown",
      "metadata": {
        "id": "view-in-github",
        "colab_type": "text"
      },
      "source": [
        "<a href=\"https://colab.research.google.com/github/swekchha/swekchha/blob/main/lbasgn.ipynb\" target=\"_parent\"><img src=\"https://colab.research.google.com/assets/colab-badge.svg\" alt=\"Open In Colab\"/></a>"
      ]
    },
    {
      "cell_type": "code",
      "execution_count": 67,
      "metadata": {
        "colab": {
          "base_uri": "https://localhost:8080/"
        },
        "id": "7TQKd1vCGC4v",
        "outputId": "5027d225-df25-4394-dd49-daffe1555986"
      },
      "outputs": [
        {
          "output_type": "stream",
          "name": "stdout",
          "text": [
            "Enter your text  sourpuss\n",
            "Give us a key in  num: 2\n",
            "uqwtrwuu"
          ]
        }
      ],
      "source": [
        "#question no 1.\n",
        "i = input(\"Enter your text  \")\n",
        "j = input(\"Give us a key in  num: \")\n",
        "for ch in i :\n",
        "    ch = ord(ch) \n",
        "    val = int(ch) + int(j)\n",
        "    con = chr(val)\n",
        "    print(con,end=\"\")\n"
      ]
    },
    {
      "cell_type": "code",
      "source": [
        "#question no 2.\n",
        "lst=[4,2,5,6]\n",
        "jn=\"\".join([str(i) for i in lst])  \n",
        "n=int(jn)+1                            \n",
        "elst=[int(a) for a in str(n)]                  \n",
        "print(elst)"
      ],
      "metadata": {
        "colab": {
          "base_uri": "https://localhost:8080/"
        },
        "id": "Gcy2S7Jiley6",
        "outputId": "bc879f0a-89c5-4e1f-8999-b55f23e88755"
      },
      "execution_count": 55,
      "outputs": [
        {
          "output_type": "stream",
          "name": "stdout",
          "text": [
            "[4, 2, 5, 7]\n"
          ]
        }
      ]
    },
    {
      "cell_type": "code",
      "source": [
        "#question no 4.\n",
        "a = (input(\"Enter first num: \")) \n",
        "b = (input(\"Enter next num: \"))\n",
        "def add(a,b):\n",
        "  c= bin(int(a,2)+int(b,2))\n",
        "  print(c[2:])\n",
        "\n",
        "\n",
        "add(a,b)\n",
        "\n"
      ],
      "metadata": {
        "colab": {
          "base_uri": "https://localhost:8080/"
        },
        "id": "w7f54ZtWW0dD",
        "outputId": "7f67cbaa-5b8f-4f08-f416-6df04415fb19"
      },
      "execution_count": 34,
      "outputs": [
        {
          "output_type": "stream",
          "name": "stdout",
          "text": [
            "Enter first num: 1011\n",
            "Enter next num: 10\n",
            "1101\n"
          ]
        }
      ]
    },
    {
      "cell_type": "code",
      "source": [
        "#question no 5.\n",
        "import math\n",
        "n=eval(input('Enter a num: '))\n",
        "def div(d):                            \n",
        "    add = 0;\n",
        "    for a in range(1,d):\n",
        "        if(d%a==0):\n",
        "            add=add+a\n",
        "    return add;\n",
        "def amp(c):\n",
        "    end = 0\n",
        "    for a in range(1,c):\n",
        "        cd = div(int(a));\n",
        "        ed = div(cd);\n",
        "        if (a == ed and cd != ed):\n",
        "            if(a > n):\n",
        "                print(a)\n",
        "                final = a\n",
        "                return a\n",
        "                break    \n",
        "    if(end == 0):\n",
        "        amp(c*2)\n",
        "def amc(n):\n",
        "    end_result = amp(1500);  \n",
        "amc(n)\n",
        "\n",
        "\n"
      ],
      "metadata": {
        "colab": {
          "base_uri": "https://localhost:8080/"
        },
        "id": "VkZL41InxOif",
        "outputId": "0308b42b-6f1b-4902-e5db-4e7109c39f0c"
      },
      "execution_count": 61,
      "outputs": [
        {
          "output_type": "stream",
          "name": "stdout",
          "text": [
            "Enter a num: 284\n",
            "1184\n"
          ]
        }
      ]
    }
  ]
}