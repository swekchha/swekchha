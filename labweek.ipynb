{
  "nbformat": 4,
  "nbformat_minor": 0,
  "metadata": {
    "colab": {
      "provenance": [],
      "authorship_tag": "ABX9TyOpCSDUGfA2I4+eonhFHgRk",
      "include_colab_link": true
    },
    "kernelspec": {
      "name": "python3",
      "display_name": "Python 3"
    },
    "language_info": {
      "name": "python"
    }
  },
  "cells": [
    {
      "cell_type": "markdown",
      "metadata": {
        "id": "view-in-github",
        "colab_type": "text"
      },
      "source": [
        "<a href=\"https://colab.research.google.com/github/swekchha/swekchha/blob/main/labweek.ipynb\" target=\"_parent\"><img src=\"https://colab.research.google.com/assets/colab-badge.svg\" alt=\"Open In Colab\"/></a>"
      ]
    },
    {
      "cell_type": "code",
      "source": [
        "# question no 1.\n",
        "def is_primenum(n):\n",
        " if n ==1  or n == 0:\n",
        "    return  False\n",
        " for i in range(2,n):\n",
        "    if n % i == 0:\n",
        "      return False\n",
        " return True\n",
        "n = eval(input(\"Enter num: \"))\n",
        "for i in range(1, n +1):\n",
        "   if (is_primenum(i)):\n",
        "     print(i)\n",
        "  \n",
        "  \n"
      ],
      "metadata": {
        "colab": {
          "base_uri": "https://localhost:8080/"
        },
        "id": "uUu9Ri4-UDQ3",
        "outputId": "84c7a418-943d-490c-d134-fe62f431d250"
      },
      "execution_count": 16,
      "outputs": [
        {
          "output_type": "stream",
          "name": "stdout",
          "text": [
            "Enter num: 7\n",
            "2\n",
            "3\n",
            "5\n",
            "7\n"
          ]
        }
      ]
    },
    {
      "cell_type": "code",
      "source": [
        "#question number 2.\n",
        "word = input(\"Enter a sentence: \")\n",
        "word = word.split(\" \")\n",
        "count = len(word)\n",
        "print(count)\n"
      ],
      "metadata": {
        "colab": {
          "base_uri": "https://localhost:8080/"
        },
        "id": "9TD_X_WjVRvx",
        "outputId": "1afdc129-bc93-4bd4-a3cb-bb73df1d8187"
      },
      "execution_count": 18,
      "outputs": [
        {
          "output_type": "stream",
          "name": "stdout",
          "text": [
            "Enter a sentence: im done\n",
            "2\n"
          ]
        }
      ]
    },
    {
      "cell_type": "code",
      "source": [
        "#question no 3.\n",
        "word = input(\"Enter a sentence:\")\n",
        "words= word.split()\n",
        "space =''.join(words)\n",
        "average=len(space)/len(words)\n",
        "print(average)"
      ],
      "metadata": {
        "colab": {
          "base_uri": "https://localhost:8080/"
        },
        "id": "2-pjM8HTV8nW",
        "outputId": "8460ebed-44e0-4c60-cbd3-dc718f6fb10e"
      },
      "execution_count": 40,
      "outputs": [
        {
          "output_type": "stream",
          "name": "stdout",
          "text": [
            "Enter a sentence:i am don\n",
            "2.0\n"
          ]
        }
      ]
    },
    {
      "cell_type": "code",
      "source": [
        "#question no 4.\n",
        "n = eval(input(\"Enter num1: \"))\n",
        "k = eval ( input(\"Enter num2: \"))\n",
        "c = n-k\n",
        "def choose(n,k):\n",
        "  a = 1\n",
        "  b = 1\n",
        "  d = 1\n",
        "  for i in range(1,n+1):\n",
        "     a = a*i\n",
        "  for m in range(1,k+1):\n",
        "     b = b*m\n",
        "  for r in range(1,c+1):\n",
        "     d = d*r\n",
        "  answer = a / (b * d) \n",
        "  print(answer)\n",
        "\n",
        "choose(n,k)"
      ],
      "metadata": {
        "colab": {
          "base_uri": "https://localhost:8080/"
        },
        "id": "YnU8pmFab8bH",
        "outputId": "f21157a3-0334-4d25-bdcc-83c219d654b2"
      },
      "execution_count": 64,
      "outputs": [
        {
          "output_type": "stream",
          "name": "stdout",
          "text": [
            "Enter num1: 5\n",
            "Enter num2: 2\n",
            "10.0\n"
          ]
        }
      ]
    },
    {
      "cell_type": "code",
      "source": [
        "#question no 5.\n",
        "import math \n",
        "def multiple(a,b):\n",
        "  answer = math.gcd(a,b)\n",
        "  mul = a * b\n",
        "  lowest = mul//answer\n",
        "  print(lowest)\n",
        "\n",
        "multiple(14,21) "
      ],
      "metadata": {
        "colab": {
          "base_uri": "https://localhost:8080/"
        },
        "id": "7-UPJ3f_fq-G",
        "outputId": "6453b527-4964-4fd1-df6a-37c77103356b"
      },
      "execution_count": 14,
      "outputs": [
        {
          "output_type": "stream",
          "name": "stdout",
          "text": [
            "42\n"
          ]
        }
      ]
    }
  ]
}