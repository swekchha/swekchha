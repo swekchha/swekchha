{
  "nbformat": 4,
  "nbformat_minor": 0,
  "metadata": {
    "colab": {
      "provenance": [],
      "collapsed_sections": [],
      "authorship_tag": "ABX9TyO+boqapXNikcV7tiw9ZzRf",
      "include_colab_link": true
    },
    "kernelspec": {
      "name": "python3",
      "display_name": "Python 3"
    },
    "language_info": {
      "name": "python"
    }
  },
  "cells": [
    {
      "cell_type": "markdown",
      "metadata": {
        "id": "view-in-github",
        "colab_type": "text"
      },
      "source": [
        "<a href=\"https://colab.research.google.com/github/swekchha/swekchha/blob/main/nameisassignment.ipynb\" target=\"_parent\"><img src=\"https://colab.research.google.com/assets/colab-badge.svg\" alt=\"Open In Colab\"/></a>"
      ]
    },
    {
      "cell_type": "code",
      "execution_count": 4,
      "metadata": {
        "colab": {
          "base_uri": "https://localhost:8080/"
        },
        "id": "ZNdGRozAktqU",
        "outputId": "008eff85-a62d-4cbd-8422-5b90165a128a"
      },
      "outputs": [
        {
          "output_type": "stream",
          "name": "stdout",
          "text": [
            "enter no of darts thrown: 10000\n",
            "3.1468\n"
          ]
        }
      ],
      "source": [
        "#question no 1.\n",
        "import random                                    #imports the random module\n",
        "n = eval(input(\"enter no of darts thrown: \"))    #user input on how many times darts to throw (run simulation)\n",
        "h = 0                                            #at first the value is 0 meaning no darts are thrown or no darts inside circle\n",
        "for point in range(n):                           #for each dart in the total simulation\n",
        "  x = 2*random.random()-1                        #picks up random x value (could be positive or negative as random() ranges from (0,1]))\n",
        "  y = 2*random.random()-1                        #picks up random y value same like x\n",
        "  if ((x**2) + (y**2 ))<1:                       #if (x,y),coordinate point lies within the distance of the circle then\n",
        "    h+=1                                         #dart lies inside the circle so count one dart point\n",
        "  else:                                          \n",
        "    continue                                     #if it doesnt lie,then continue the process and keep counting the no of darts that lies inside the circle \n",
        "                                                 #untill the simulation is over\n",
        "      \n",
        "  \n",
        "pi = 4 *(h/n)                                    \n",
        "print(pi)"
      ]
    },
    {
      "cell_type": "code",
      "source": [
        "#question no 2.\n",
        "import random                                  #import the random module\n",
        "n =int(input('how many random steps?:'))       #user input on hpw many simulation to create\n",
        "lst = ['head','tail']                          \n",
        "strt=0                                         #at first suppose starting point is zero,not walked forward or backward\n",
        "for i in range(n):                             #for each simulation\n",
        "  a = random.choice(lst)                       #flip the coin and store a random head or tail pick by random.choice(lst)\n",
        "  if a == 'head':                              #if the particular simulation gets head\n",
        "    strt+=1                                    #move forward\n",
        "    continue                                   #after moving forward return to next simulation\n",
        "  else:                                        \n",
        "    strt-=1                                    #else move backward\n",
        "new = strt                                     #storing the total average movement in new value\n",
        "if new<1:                                              #if movement is below the starting line then\n",
        "  print(\"you came \"+str(abs(new))+\" steps backward\")   #print your step down by that steps\n",
        "elif new==0:                                           #if average equals zero then \n",
        "  print(\"you came where you started\")                  #print you're on the same place where you started\n",
        "else:     \n",
        "  print(\"you came \"+str(abs(new))+\" steps forward \")   #otherwise you will step up by that steps\n"
      ],
      "metadata": {
        "colab": {
          "base_uri": "https://localhost:8080/"
        },
        "id": "pPR5v6QDk93U",
        "outputId": "0240d056-1259-4260-b0aa-dab53e18f1f8"
      },
      "execution_count": 5,
      "outputs": [
        {
          "output_type": "stream",
          "name": "stdout",
          "text": [
            "how many random steps?:1000\n",
            "you came 2 steps backward\n"
          ]
        }
      ]
    }
  ]
}