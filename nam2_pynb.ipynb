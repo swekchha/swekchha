{
  "nbformat": 4,
  "nbformat_minor": 0,
  "metadata": {
    "colab": {
      "provenance": [],
      "authorship_tag": "ABX9TyP9rsmr3Twju4ClZnPnImsM",
      "include_colab_link": true
    },
    "kernelspec": {
      "name": "python3",
      "display_name": "Python 3"
    },
    "language_info": {
      "name": "python"
    }
  },
  "cells": [
    {
      "cell_type": "markdown",
      "metadata": {
        "id": "view-in-github",
        "colab_type": "text"
      },
      "source": [
        "<a href=\"https://colab.research.google.com/github/swekchha/swekchha/blob/main/nam2_pynb.ipynb\" target=\"_parent\"><img src=\"https://colab.research.google.com/assets/colab-badge.svg\" alt=\"Open In Colab\"/></a>"
      ]
    },
    {
      "cell_type": "code",
      "execution_count": 89,
      "metadata": {
        "id": "yA_wt-xFT3Pd",
        "colab": {
          "base_uri": "https://localhost:8080/"
        },
        "outputId": "da34c1d4-7b83-420a-c4b7-c591b1306f44"
      },
      "outputs": [
        {
          "name": "stdout",
          "output_type": "stream",
          "text": [
            "Enter num: 6\n"
          ]
        },
        {
          "output_type": "execute_result",
          "data": {
            "text/plain": [
              "(3, 3)"
            ]
          },
          "metadata": {},
          "execution_count": 89
        }
      ],
      "source": [
        "#question no 1.\n",
        "def prime(n):     \n",
        "  if n==1 or n==0:\n",
        "    return False\n",
        "  for i in range(2,n):              \n",
        "    if (n%i==0):\n",
        "      return False\n",
        "  return True\n",
        "n=int(input(\"Enter num: \"))\n",
        "lst=[]\n",
        "def prime_sum():           \n",
        " if n%2==0:\n",
        "  for i in range(2,n):\n",
        "   if(prime(i)==True):       \n",
        "    lst.append(i)    \n",
        "    for i in lst[0:len(lst)]:\n",
        "     for j in range(0,i+1):\n",
        "      if (i+j==n):\n",
        "       return(i,j) \n",
        " else:\n",
        "  print(\"enter even num only\") \n",
        "prime_sum()\n"
      ]
    },
    {
      "cell_type": "code",
      "source": [
        "#question no 2.\n",
        "lst= [1,0,3,0,4]\n",
        "newlst=[]\n",
        "for i in lst:\n",
        "  if i==0:\n",
        "    lst.remove(i)\n",
        "    newlst.append(i)\n",
        "print(lst+newlst)\n",
        "   \n",
        "  \n"
      ],
      "metadata": {
        "colab": {
          "base_uri": "https://localhost:8080/"
        },
        "id": "ht-gsLgDiMep",
        "outputId": "4842e3a7-0b57-406f-fa7c-1ec0260c3a00"
      },
      "execution_count": null,
      "outputs": [
        {
          "output_type": "stream",
          "name": "stdout",
          "text": [
            "[1, 3, 4, 0, 0]\n"
          ]
        }
      ]
    },
    {
      "cell_type": "code",
      "source": [
        "#question no 3.\n",
        "def pattern_matching(str,pattern,str_len,pat_len):\n",
        "    if(str_len<pat_len):\n",
        "        return False\n",
        "    if(str_len==0 and pat_len==0):\n",
        "        return True\n",
        "    if (str_len == 0 or pat_len == 0):\n",
        "        return False\n",
        "    if(str.find(' ')!=-1):\n",
        "        str_list=str.split()\n",
        "    else:\n",
        "        splitted_words = [[str[0]]]\n",
        "        for i in str[1:]:\n",
        "            if i.isupper() and splitted_words[-1][-1].islower():\n",
        "                splitted_words.append(list(i))\n",
        "            else:\n",
        "                splitted_words[-1].append(i)\n",
        "        str_list=[''.join(word) for word in splitted_words]\n",
        "    pat_list = []\n",
        "    for i in pattern:\n",
        "            if(i not in pat_list):\n",
        "                pat_list.append(i)\n",
        "    j=0\n",
        "    dict = {}\n",
        "    for i in pat_list:\n",
        "        while(j<str_len):\n",
        "            dict[i]=str_list[j]\n",
        "            j+=1\n",
        "            break\n",
        "    output=[]\n",
        "    for i in pattern:\n",
        "        if(i in dict.keys()):\n",
        "            output.append(dict[i])\n",
        "    if(output==str_list):\n",
        "        print(dict)\n",
        "        return True\n",
        "    else:\n",
        "        return False\n",
        "str=\"python code python code\"\n",
        "pattern= input(\"enter pattern: \")\n",
        "if(pattern_matching(str,pattern,len(str),len(pattern))):\n",
        "    print( True)\n",
        "else:\n",
        "    print( False)"
      ],
      "metadata": {
        "colab": {
          "base_uri": "https://localhost:8080/"
        },
        "id": "FEEtaKdrcAKb",
        "outputId": "13927220-df7d-420a-87c4-40d2217a4dab"
      },
      "execution_count": 87,
      "outputs": [
        {
          "output_type": "stream",
          "name": "stdout",
          "text": [
            "enter pattern: abab\n",
            "{'a': 'python', 'b': 'code'}\n",
            "True\n"
          ]
        }
      ]
    }
  ]
}