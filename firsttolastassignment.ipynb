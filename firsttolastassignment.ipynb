{
  "nbformat": 4,
  "nbformat_minor": 0,
  "metadata": {
    "colab": {
      "provenance": [],
      "authorship_tag": "ABX9TyOgxJXSLEqeDcyJcPaG4Qni",
      "include_colab_link": true
    },
    "kernelspec": {
      "name": "python3",
      "display_name": "Python 3"
    },
    "language_info": {
      "name": "python"
    }
  },
  "cells": [
    {
      "cell_type": "markdown",
      "metadata": {
        "id": "view-in-github",
        "colab_type": "text"
      },
      "source": [
        "<a href=\"https://colab.research.google.com/github/swekchha/swekchha/blob/main/firsttolastassignment.ipynb\" target=\"_parent\"><img src=\"https://colab.research.google.com/assets/colab-badge.svg\" alt=\"Open In Colab\"/></a>"
      ]
    },
    {
      "cell_type": "code",
      "execution_count": 26,
      "metadata": {
        "colab": {
          "base_uri": "https://localhost:8080/"
        },
        "id": "UJOe_CSAj9v3",
        "outputId": "5e57caef-f201-46fa-ea7d-4ffb5e380cd4"
      },
      "outputs": [
        {
          "output_type": "stream",
          "name": "stdout",
          "text": [
            "Enter your text  sourpuss\n",
            "Give us a key in  num: 2\n",
            " uqwtrwuu\n",
            "\u001esourpuss"
          ]
        }
      ],
      "source": [
        "#question no 1.\n",
        "i = input(\"Enter your text  \")\n",
        "j = input(\"Give us a key in  num: \")\n",
        "newcon = \" \"\n",
        "for ch in i :                 #for each character in the input text\n",
        "    ch = ord(ch)              # convert each character to ordinal number\n",
        "    val = int(ch) + int(j)    #shifts the each character's ordinal value to \"j\" number value\n",
        "    con = chr(val)            #again converts the ord value of shifted number to character\n",
        "    newcon = newcon + con     #stores each character value after bring shifted\n",
        "print(newcon,end=\"\\n\")        # prints the final shifted value \n",
        "againcon = newcon             # restore the final value to new one inorder to decode\n",
        "for n in againcon:            #for every character in stored final value\n",
        "  n = ord(n)                  #again convert to ordinal value\n",
        "  newval = int(n)- int(j)     #reshift the ordinal number back to the orginal input(i)\n",
        "  againnewcon = chr(newval)   #converts the original number value to character\n",
        "  print(againnewcon,end=\"\")   #finally print the original input characters\n",
        " \n"
      ]
    },
    {
      "cell_type": "code",
      "source": [
        "#question no 2.\n",
        "lst=[4,2,5,6]                       \n",
        "jn=\"\".join([str(i) for i in lst])   #converts every element inside the list into string and remove the space and join the space = 4256\n",
        "n=int(jn)+1                         #convert the string into integer num and add 1 and store in 'n'    \n",
        "elst=[int(a) for a in str(n)]       #use the 'n' number as a string and for every element inside of string , store them as element in list       \n",
        "print(elst)                         #finally print the newlist"
      ],
      "metadata": {
        "colab": {
          "base_uri": "https://localhost:8080/"
        },
        "id": "Ekd96rCokOop",
        "outputId": "756787b7-4300-4dbf-9612-8d703eacb40a"
      },
      "execution_count": 27,
      "outputs": [
        {
          "output_type": "stream",
          "name": "stdout",
          "text": [
            "4256\n",
            "[4, 2, 5, 7]\n"
          ]
        }
      ]
    },
    {
      "cell_type": "code",
      "source": [
        "#question no 3.\n",
        "a = (input(\"Enter first num: \"))       #user input n1\n",
        "b = (input(\"Enter next num: \"))        #user input n2\n",
        "def add(a,b):                          #define a function 'add' which takes two input values,n1 and n2\n",
        "  c= bin(int(a,2)+int(b,2))            #inside this function convert the integer into binary base 2 and add them\n",
        "  print(c[2:])                         #finally print the added answer without 0b\n",
        "\n",
        "\n",
        "add(a,b)                               #call the function to give input n1 and n2 and to operate the function to get the output of addition\n"
      ],
      "metadata": {
        "colab": {
          "base_uri": "https://localhost:8080/"
        },
        "id": "1olPPdPFknvN",
        "outputId": "572f10c2-9c80-4dec-954b-8ca439021cad"
      },
      "execution_count": 7,
      "outputs": [
        {
          "output_type": "stream",
          "name": "stdout",
          "text": [
            "Enter first num: 1011\n",
            "Enter next num: 10\n",
            "1101\n"
          ]
        }
      ]
    },
    {
      "cell_type": "code",
      "source": [
        "#question no 4.\n",
        "import math                                       #import the module of math to access mathematical functions \n",
        "n=eval(input('Enter a num: '))                    #user input a num\n",
        "def div(d):                                       #define a function div that takes the value from the function amp \n",
        "    add = 0;                                      #at first add = 0,\n",
        "    for a in range(1,d):                          \n",
        "        if(d%a==0):                               #if the first number divided by the starting num is equal to zero\n",
        "            add=add+a                             #count add (increase)\n",
        "    return add;                                   #return the total add value\n",
        "def amp(c):                                      #define a function amp that takes the user input num\n",
        "    end = 0                                      #at first end = 0,\n",
        "    for a in range(1,c):                         #for every number starting with 1 inside range less the user input number \n",
        "        cd = div(int(a));                        # take the starting num and go to function div\n",
        "        ed = div(cd);                            #take the cd value and store in ed\n",
        "        if (a == ed and cd != ed):               #if each num value is equal to ed and cd is not equal to ed\n",
        "            if(a > n):                             #(inside if) if first num is greater than given num\n",
        "                print(a)                           #print the num\n",
        "                final = a                          #store num in final\n",
        "                return a                           #return the final num\n",
        "                break                              #and break\n",
        "    if(end == 0):                               \n",
        "        amp(c*2)\n",
        "def amc(n):\n",
        "    end_result = amp(1500);  \n",
        "amc(n)                                          #call function amp\n",
        "\n"
      ],
      "metadata": {
        "colab": {
          "base_uri": "https://localhost:8080/"
        },
        "id": "uM10P72yk-TN",
        "outputId": "350182f2-f36d-4f93-d58c-123fa1479fcc"
      },
      "execution_count": 6,
      "outputs": [
        {
          "output_type": "stream",
          "name": "stdout",
          "text": [
            "Enter a num: 284\n",
            "1184\n"
          ]
        }
      ]
    }
  ]
}