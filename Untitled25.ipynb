{
  "nbformat": 4,
  "nbformat_minor": 0,
  "metadata": {
    "colab": {
      "provenance": [],
      "authorship_tag": "ABX9TyMoVh2uH+YH/nAxgziD9WVx",
      "include_colab_link": true
    },
    "kernelspec": {
      "name": "python3",
      "display_name": "Python 3"
    },
    "language_info": {
      "name": "python"
    }
  },
  "cells": [
    {
      "cell_type": "markdown",
      "metadata": {
        "id": "view-in-github",
        "colab_type": "text"
      },
      "source": [
        "<a href=\"https://colab.research.google.com/github/swekchha/swekchha/blob/main/Untitled25.ipynb\" target=\"_parent\"><img src=\"https://colab.research.google.com/assets/colab-badge.svg\" alt=\"Open In Colab\"/></a>"
      ]
    },
    {
      "cell_type": "code",
      "execution_count": 7,
      "metadata": {
        "colab": {
          "base_uri": "https://localhost:8080/"
        },
        "id": "pvto7Kr8oYaT",
        "outputId": "2cc122c5-8e2a-49e9-904d-e658df3982b3"
      },
      "outputs": [
        {
          "output_type": "stream",
          "name": "stdout",
          "text": [
            "The radius of the sphere is 4\n",
            "The surface area of sphere is 67\n",
            "The volume of sphere is 268.190476\n"
          ]
        }
      ],
      "source": [
        "#question no 1.\n",
        "class Sphere:\n",
        "  def __init__(self,radius):\n",
        "    self.radius = radius\n",
        "  def getRadius(self):\n",
        "    print(\"The radius of the sphere is \"+str(self.radius))\n",
        "  def squareArea(self):\n",
        "    print(\"The surface area of sphere is \"+str(round((4/3)*(22/7)*(self.radius**2))))  \n",
        "  def volume(self):\n",
        "    b =  ((4/3)*(22/7)*(self.radius**3))\n",
        "    print(\"The volume of sphere is {:2f}\".format(b))\n",
        "   \n",
        "  \n",
        "\n",
        "a = Sphere(4)\n",
        "a.getRadius()\n",
        "a.squareArea()\n",
        "a.volume()\n",
        "    "
      ]
    },
    {
      "cell_type": "code",
      "source": [
        "#question no 2.\n",
        "import random\n",
        "class Card:\n",
        "  \n",
        "  def __init__(self,rank,suit):\n",
        "    self.rank=rank\n",
        "    self.suit=suit\n",
        "    self.suitval={'d':'diamond','c':'clubs','h':'heart','s':'spades'} \n",
        "  \n",
        "  def getRank(self):\n",
        "    return self.rank  \n",
        "\n",
        "  def getSuit(self):\n",
        "    return self.suit          \n",
        "\n",
        "  def value(self):\n",
        "    if(self.rank==11):   \n",
        "      return 'Jack'  \n",
        "    elif(self.rank==1):\n",
        "      return 'Ace'\n",
        "    elif(self.rank==13):\n",
        "      return 'King'\n",
        "    elif(self.rank==12):     \n",
        "      return 'Queen'             \n",
        "    else:\n",
        "      return self.rank   \n",
        "\n",
        "  def __str__(self):\n",
        "    res = self.value()      \n",
        "    print('Got: '+ str(res) + ' of '+ self.suitval[self.getSuit()])\n",
        "    \n",
        " \n",
        "num=int(input('Which card number would you like to keep? '))\n",
        "pick = \"dchs\"[randrange(4)]\n",
        "rc=Card(num,pick)     \n",
        "rc.__str__()"
      ],
      "metadata": {
        "colab": {
          "base_uri": "https://localhost:8080/"
        },
        "id": "_ALlBlUQkEqt",
        "outputId": "182e304a-362c-4f7d-9fd8-e74b433bc835"
      },
      "execution_count": 61,
      "outputs": [
        {
          "output_type": "stream",
          "name": "stdout",
          "text": [
            "Which card number would you like to keep? 1\n",
            "Got: Ace of heart\n"
          ]
        }
      ]
    }
  ]
}