{
  "nbformat": 4,
  "nbformat_minor": 0,
  "metadata": {
    "colab": {
      "provenance": [],
      "collapsed_sections": [],
      "authorship_tag": "ABX9TyPyQCHoG+sbQovO+j/thMEo",
      "include_colab_link": true
    },
    "kernelspec": {
      "name": "python3",
      "display_name": "Python 3"
    },
    "language_info": {
      "name": "python"
    }
  },
  "cells": [
    {
      "cell_type": "markdown",
      "metadata": {
        "id": "view-in-github",
        "colab_type": "text"
      },
      "source": [
        "<a href=\"https://colab.research.google.com/github/swekchha/swekchha/blob/main/p4.ipynb\" target=\"_parent\"><img src=\"https://colab.research.google.com/assets/colab-badge.svg\" alt=\"Open In Colab\"/></a>"
      ]
    },
    {
      "cell_type": "code",
      "execution_count": 11,
      "metadata": {
        "colab": {
          "base_uri": "https://localhost:8080/"
        },
        "id": "wr3AedXo2oWc",
        "outputId": "9d1436e2-d855-4c75-ea77-9d7d6271e0d1"
      },
      "outputs": [
        {
          "output_type": "stream",
          "name": "stdout",
          "text": [
            "1\n",
            "2\n",
            "3\n",
            "funny\n",
            "5\n",
            "buzz\n",
            "7\n",
            "funny\n",
            "9\n",
            "10\n",
            "11\n",
            "funnybuzz\n",
            "13\n",
            "14\n",
            "15\n",
            "funny\n"
          ]
        }
      ],
      "source": [
        "#question no 1.\n",
        "def funnybuzz(n):\n",
        " i=1\n",
        " while i<=n: \n",
        "   if i%4!=0 and i%6!=0:\n",
        "     print(i)\n",
        "     i=i+1\n",
        "   elif i%4==0:\n",
        "     print(\"funny\")\n",
        "     i=i+1\n",
        "   elif i%6==0:\n",
        "     print(\"buzz\")\n",
        "     i=i+1\n",
        "   if i%4==0 and i%6==0:\n",
        "     print(\"funnybuzz\")\n",
        "     i=i+1\n",
        "\n",
        "\n",
        "funnybuzz(16)\n",
        "\n",
        "  \n"
      ]
    },
    {
      "cell_type": "code",
      "source": [
        "#question no 2.\n",
        "def multiples_sum(m,n,limit):\n",
        "  sum = 0\n",
        "  for i in range(limit):\n",
        "    if i % m == 0 or i % n == 0:\n",
        "        sum += i\n",
        "  print(sum)\n",
        "multiples_sum(3,7,1000)\n",
        "\n",
        "    \n",
        "      \n",
        "\n",
        "\n"
      ],
      "metadata": {
        "colab": {
          "base_uri": "https://localhost:8080/"
        },
        "id": "GunRLWTLAE8C",
        "outputId": "9cefe555-02c7-44c3-d567-5614e13fede6"
      },
      "execution_count": null,
      "outputs": [
        {
          "output_type": "stream",
          "name": "stdout",
          "text": [
            "214216\n"
          ]
        }
      ]
    },
    {
      "cell_type": "code",
      "source": [
        "#question no 3\n",
        "m = eval(input(\"n=\"))\n",
        "def hailstone(m):\n",
        "  n = abs(m)\n",
        "   \n",
        "  for i in range(m+1,0,-1):\n",
        "    while m != 1:\n",
        "      if m % 2 == 0:\n",
        "        m = m//2\n",
        "        print(m)\n",
        "      \n",
        "      elif m% 2 != 0:\n",
        "        m = m*3 + 1\n",
        "        print(m)\n",
        "\n",
        "hailstone(m)\n",
        "\n"
      ],
      "metadata": {
        "colab": {
          "base_uri": "https://localhost:8080/"
        },
        "id": "FsqPX0ei_9uY",
        "outputId": "32f9a8f5-0172-42d2-921f-b9e08cb37276"
      },
      "execution_count": 12,
      "outputs": [
        {
          "output_type": "stream",
          "name": "stdout",
          "text": [
            "n=10\n",
            "5\n",
            "16\n",
            "8\n",
            "4\n",
            "2\n",
            "1\n"
          ]
        }
      ]
    },
    {
      "cell_type": "code",
      "source": [
        "#question no 4.\n",
        "def nearest(n):\n",
        "  if n > 1:\n",
        "    for i in range(1, round(n)):\n",
        "      if (2 ** i >= n):\n",
        "        if(abs((2 * i) - n) > abs((2 * (i-1)) - n)):\n",
        "          return 2 ** (i-1)\n",
        "        else:\n",
        "          return 2 ** i\n",
        "    else:\n",
        "        return 1\n",
        " \n",
        "\n",
        "nearest(11.5)\n",
        "   \n",
        "    "
      ],
      "metadata": {
        "colab": {
          "base_uri": "https://localhost:8080/"
        },
        "id": "keLVjeRupKSa",
        "outputId": "84ed811e-4f4e-43ad-955c-4e9ba08cc9ea"
      },
      "execution_count": 4,
      "outputs": [
        {
          "output_type": "execute_result",
          "data": {
            "text/plain": [
              "16"
            ]
          },
          "metadata": {},
          "execution_count": 4
        }
      ]
    },
    {
      "cell_type": "code",
      "source": [
        "#question no 5.\n",
        "m=eval(input(\"Enter a number:\"))\n",
        "fac=[]\n",
        "for i in range(1,m+1):\n",
        "  if m%i==0:\n",
        "    fac.append(int(i))\n",
        "def check(m):\n",
        "    j=1 \n",
        "    n=fac[j-1] * fac[-j]\n",
        "    count=0\n",
        "    while n==m :\n",
        "     print(fac[j-1],\"*\",fac[-j],\"=\",n)\n",
        "     count=count+1 \n",
        "     j=j+1\n",
        "     if j>len(fac) or count>len(fac)/2 :\n",
        "       break\n",
        "    fac.remove(m)   \n",
        "    if sum(fac)>m:\n",
        "     return True\n",
        "    else:\n",
        "     return False\n",
        "check(m)\n"
      ],
      "metadata": {
        "colab": {
          "base_uri": "https://localhost:8080/"
        },
        "id": "v_RYE-Chq6pZ",
        "outputId": "c6bcdbdb-2506-4706-c4b1-358067d4a7e7"
      },
      "execution_count": 5,
      "outputs": [
        {
          "output_type": "stream",
          "name": "stdout",
          "text": [
            "Enter a number:12\n",
            "1 * 12 = 12\n",
            "2 * 6 = 12\n",
            "3 * 4 = 12\n",
            "4 * 3 = 12\n"
          ]
        },
        {
          "output_type": "execute_result",
          "data": {
            "text/plain": [
              "True"
            ]
          },
          "metadata": {},
          "execution_count": 5
        }
      ]
    }
  ]
}