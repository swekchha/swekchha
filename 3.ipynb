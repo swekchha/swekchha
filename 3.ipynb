{
  "nbformat": 4,
  "nbformat_minor": 0,
  "metadata": {
    "colab": {
      "provenance": [],
      "collapsed_sections": [],
      "authorship_tag": "ABX9TyPmkogOh/OLvjr+Jcl6ZIol",
      "include_colab_link": true
    },
    "kernelspec": {
      "name": "python3",
      "display_name": "Python 3"
    },
    "language_info": {
      "name": "python"
    }
  },
  "cells": [
    {
      "cell_type": "markdown",
      "metadata": {
        "id": "view-in-github",
        "colab_type": "text"
      },
      "source": [
        "<a href=\"https://colab.research.google.com/github/swekchha/swekchha/blob/main/3.ipynb\" target=\"_parent\"><img src=\"https://colab.research.google.com/assets/colab-badge.svg\" alt=\"Open In Colab\"/></a>"
      ]
    },
    {
      "cell_type": "code",
      "source": [
        "#question 1\n",
        "def is_equal(a,b,c):\n",
        "  if (a==b and a != b):\n",
        "    return True\n",
        "  elif (c==a and c!= b):\n",
        "    return True \n",
        "  else:\n",
        "    return False\n",
        "is_equal(1,2,1) "
      ],
      "metadata": {
        "colab": {
          "base_uri": "https://localhost:8080/"
        },
        "id": "S5WwkC3jpHmO",
        "outputId": "40866baa-8feb-4b5a-89fe-e50892a98e1d"
      },
      "execution_count": 3,
      "outputs": [
        {
          "output_type": "execute_result",
          "data": {
            "text/plain": [
              "True"
            ]
          },
          "metadata": {},
          "execution_count": 3
        }
      ]
    },
    {
      "cell_type": "code",
      "source": [
        "#question 2\n",
        "def diff(x,y,z):\n",
        "  \n",
        "  if (x - y == z) or (y-x == z):\n",
        "    return True\n",
        "  elif (y-z == x) or (z-y ==x):\n",
        "    return True\n",
        "  elif(z-x ==y or x-z == y):\n",
        "    return True\n",
        "  else:\n",
        "    return False\n",
        "diff(-2,3,-5)        \n",
        "\n"
      ],
      "metadata": {
        "colab": {
          "base_uri": "https://localhost:8080/"
        },
        "id": "8X75btBxpPVT",
        "outputId": "84df3203-0eb9-4ddc-c8e7-ca3d032e33e6"
      },
      "execution_count": 8,
      "outputs": [
        {
          "output_type": "execute_result",
          "data": {
            "text/plain": [
              "True"
            ]
          },
          "metadata": {},
          "execution_count": 8
        }
      ]
    },
    {
      "cell_type": "code",
      "source": [
        "#question 3\n",
        "def factor(a,b):\n",
        "  if  (a % b==0) or  (b % a ==0):\n",
        "    return True\n",
        "factor(3,6)   \n"
      ],
      "metadata": {
        "colab": {
          "base_uri": "https://localhost:8080/"
        },
        "id": "ko1aEaoTrXD1",
        "outputId": "837d3b97-8845-4ece-ac21-2ca85417ed26"
      },
      "execution_count": 9,
      "outputs": [
        {
          "output_type": "execute_result",
          "data": {
            "text/plain": [
              "True"
            ]
          },
          "metadata": {},
          "execution_count": 9
        }
      ]
    },
    {
      "cell_type": "code",
      "source": [
        "#question 4\n",
        "def factors(n):\n",
        "  for i in range(n,0,-1):\n",
        "    if (n % i == 0):\n",
        "      print (i)\n",
        " \n",
        "factors(7)    \n"
      ],
      "metadata": {
        "colab": {
          "base_uri": "https://localhost:8080/"
        },
        "id": "7XaxB7CasAuN",
        "outputId": "a2fc4c24-04d5-4b48-a2a3-4bc93a2e8384"
      },
      "execution_count": 8,
      "outputs": [
        {
          "output_type": "stream",
          "name": "stdout",
          "text": [
            "7\n",
            "1\n"
          ]
        }
      ]
    },
    {
      "cell_type": "code",
      "source": [
        "#question 5\n",
        "def lrgst_fact(n):\n",
        " for i in range(n-1,0,-1):\n",
        "  if(n%i==0):\n",
        "   return i \n",
        "lrgst_fact(15)"
      ],
      "metadata": {
        "colab": {
          "base_uri": "https://localhost:8080/"
        },
        "id": "omlMO5GQuCEy",
        "outputId": "1b82f99d-01c2-43cb-d6c1-c51e6e909bdf"
      },
      "execution_count": 9,
      "outputs": [
        {
          "output_type": "execute_result",
          "data": {
            "text/plain": [
              "5"
            ]
          },
          "metadata": {},
          "execution_count": 9
        }
      ]
    }
  ]
}