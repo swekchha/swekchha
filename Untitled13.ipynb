{
  "nbformat": 4,
  "nbformat_minor": 0,
  "metadata": {
    "colab": {
      "provenance": [],
      "authorship_tag": "ABX9TyOC6Hvzs7gvJu1S206R3Ul4",
      "include_colab_link": true
    },
    "kernelspec": {
      "name": "python3",
      "display_name": "Python 3"
    },
    "language_info": {
      "name": "python"
    }
  },
  "cells": [
    {
      "cell_type": "markdown",
      "metadata": {
        "id": "view-in-github",
        "colab_type": "text"
      },
      "source": [
        "<a href=\"https://colab.research.google.com/github/swekchha/swekchha/blob/main/Untitled13.ipynb\" target=\"_parent\"><img src=\"https://colab.research.google.com/assets/colab-badge.svg\" alt=\"Open In Colab\"/></a>"
      ]
    },
    {
      "cell_type": "code",
      "execution_count": 1,
      "metadata": {
        "colab": {
          "base_uri": "https://localhost:8080/"
        },
        "id": "gssoccQl4fGh",
        "outputId": "9c7e3b50-1eee-4a34-bc19-685c39e4f3c3"
      },
      "outputs": [
        {
          "output_type": "stream",
          "name": "stdout",
          "text": [
            "enter the words:hello python\n",
            "olleh nohtyp "
          ]
        }
      ],
      "source": [
        "# question no  1.\n",
        "# Input: str = \"Hello, Python\"\n",
        "# Output: \"olleH, nohtyP\" \n",
        "\n",
        "term=input(\"enter the words:\")\n",
        "def reverse_term(term):\n",
        "  result=term.split(\" \")\n",
        "  for char in result: \n",
        "    char=char[::-1]\n",
        "    result=\"\".join(char)\n",
        "    print(result, end=\" \")\n",
        "reverse_term(term)\n"
      ]
    },
    {
      "cell_type": "code",
      "source": [
        "# question no 2.\n",
        "# Input: nums = [1,2,3,4], target = 7\n",
        "# Output: [2,3]\n",
        "class answer(object):\n",
        "  def add(self, num, target):\n",
        "    ans = [] \n",
        "    for i in range(len(num) - 1):\n",
        "      for j in range(i + 1, len(num)):\n",
        "        s = num[i] + num[j]\n",
        "        if s == target:\n",
        "          ans.append((i, j)) \n",
        "          return ans \n",
        "print(answer().add([1,2,3,4], 7))\n",
        "\n"
      ],
      "metadata": {
        "colab": {
          "base_uri": "https://localhost:8080/"
        },
        "id": "dC-YLknx5XCW",
        "outputId": "0c925ea0-19ed-4022-a8cb-342154a0e93a"
      },
      "execution_count": 2,
      "outputs": [
        {
          "output_type": "stream",
          "name": "stdout",
          "text": [
            "[(2, 3)]\n"
          ]
        }
      ]
    },
    {
      "cell_type": "code",
      "source": [
        "# question no 3.\n",
        "# write a function to return \n",
        "# true if n is palindrome integer.\n",
        "n = input(\"enter a number:\")\n",
        "def hello(n):\n",
        "  if (n == n[::-1]):\n",
        "    return True\n",
        "  else:\n",
        "    return False\n",
        "\n",
        "hello(n)"
      ],
      "metadata": {
        "colab": {
          "base_uri": "https://localhost:8080/"
        },
        "id": "Q73Fw9Oj56jg",
        "outputId": "868d4195-45c8-4da0-ead8-a963cc65b8a5"
      },
      "execution_count": 4,
      "outputs": [
        {
          "name": "stdout",
          "output_type": "stream",
          "text": [
            "enter a number:121\n"
          ]
        },
        {
          "output_type": "execute_result",
          "data": {
            "text/plain": [
              "True"
            ]
          },
          "metadata": {},
          "execution_count": 4
        }
      ]
    },
    {
      "cell_type": "code",
      "source": [
        "# question no 4.\n",
        "# Input: str = [\"michael\",\"michelle\",\"mitch\"]\n",
        "# Output: \"mi\"\n",
        "def lcp():\n",
        "  lst = ['michael','michelle','mitch']\n",
        "  lst = sorted(lst)\n",
        "  a=lst[0]\n",
        "  prefix=\"\"\n",
        "  for i in range(len(a)):\n",
        "    if lst[len(lst)-1][i] == a[i]:\n",
        "      prefix = prefix + lst[len(lst)-1][i]\n",
        "    else:\n",
        "      break\n",
        "  print(prefix)\n",
        "lcp()\n"
      ],
      "metadata": {
        "colab": {
          "base_uri": "https://localhost:8080/"
        },
        "id": "FzAWZJUd6cHo",
        "outputId": "5f4a6ee9-9087-47ff-e1b2-6790dde80a6e"
      },
      "execution_count": 5,
      "outputs": [
        {
          "output_type": "stream",
          "name": "stdout",
          "text": [
            "mi\n"
          ]
        }
      ]
    },
    {
      "cell_type": "code",
      "source": [
        "# question no 5.\n",
        "#  Write a program that approximates the value \n",
        "# of pi by summing the terms of this series: 4\n",
        "# 1\n",
        "# ―4\n",
        "# 3 + 4\n",
        "# 5 ―4\n",
        "# 7 + 4\n",
        "# 9 ― 4\n",
        "import math\n",
        "num= int(input(\"Enter the number: \"))\n",
        "pi = 0\n",
        "for i in range(num):\n",
        "  value = ((-1) ** i) * (4 / (2 * i + 1))\n",
        "  pi += value\n",
        "print(\"The value of pi =\", pi)\n",
        "print(\"The actual value of pi =\", math.pi)\n",
        "print(\"The subtraction is =\", math.pi - pi)\n"
      ],
      "metadata": {
        "colab": {
          "base_uri": "https://localhost:8080/"
        },
        "id": "9hcKefRX60mX",
        "outputId": "a63be89b-d7ce-4a62-b752-12f77dcdc63e"
      },
      "execution_count": 7,
      "outputs": [
        {
          "output_type": "stream",
          "name": "stdout",
          "text": [
            "Enter the number: 4\n",
            "The value of pi = 2.8952380952380956\n",
            "The actual value of pi = 3.141592653589793\n",
            "The subtraction is = 0.2463545583516975\n"
          ]
        }
      ]
    },
    {
      "cell_type": "code",
      "source": [
        "# question no 6.\n",
        "# Write a program that implements Newton's method. \n",
        "import math\n",
        "def newton_way(b,s):\n",
        "  a=1\n",
        "  c = b/2\n",
        "  while a <= s:\n",
        "    c = (c + (b/c)) / 2\n",
        "    a+=1\n",
        "  return c\n",
        "value = newton_way(64, 8)\n",
        "print (value,'\\nDifference with sqrt: ', value -(math.sqrt(60)))\n",
        "\n"
      ],
      "metadata": {
        "colab": {
          "base_uri": "https://localhost:8080/"
        },
        "id": "qJUqc5aP7YNT",
        "outputId": "7696912e-da7b-4d59-c529-6fbfd8fb4a79"
      },
      "execution_count": 8,
      "outputs": [
        {
          "output_type": "stream",
          "name": "stdout",
          "text": [
            "8.0 \n",
            "Difference with sqrt:  0.25403330758516596\n"
          ]
        }
      ]
    }
  ]
}