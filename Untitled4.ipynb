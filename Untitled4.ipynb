{
  "nbformat": 4,
  "nbformat_minor": 0,
  "metadata": {
    "colab": {
      "provenance": [],
      "collapsed_sections": [],
      "authorship_tag": "ABX9TyO0j3qRmk0kYzaeSm9/CTRC",
      "include_colab_link": true
    },
    "kernelspec": {
      "name": "python3",
      "display_name": "Python 3"
    },
    "language_info": {
      "name": "python"
    }
  },
  "cells": [
    {
      "cell_type": "markdown",
      "metadata": {
        "id": "view-in-github",
        "colab_type": "text"
      },
      "source": [
        "<a href=\"https://colab.research.google.com/github/swekchha/swekchha/blob/main/Untitled4.ipynb\" target=\"_parent\"><img src=\"https://colab.research.google.com/assets/colab-badge.svg\" alt=\"Open In Colab\"/></a>"
      ]
    },
    {
      "cell_type": "code",
      "execution_count": 1,
      "metadata": {
        "colab": {
          "base_uri": "https://localhost:8080/"
        },
        "id": "apDIn1i0iMj8",
        "outputId": "a6d00699-1734-4653-b9a9-ff1d143757bc"
      },
      "outputs": [
        {
          "name": "stdout",
          "output_type": "stream",
          "text": [
            "Enter a number:6\n"
          ]
        },
        {
          "output_type": "execute_result",
          "data": {
            "text/plain": [
              "True"
            ]
          },
          "metadata": {},
          "execution_count": 1
        }
      ],
      "source": [
        "#question no 1.\n",
        "n=eval(input(\"Enter a number:\"))\n",
        "def check_even_odd(n):\n",
        " if (n%2==0):\n",
        "   return True\n",
        " else:\n",
        "   return False\n",
        "check_even_odd(n)"
      ]
    },
    {
      "cell_type": "code",
      "source": [
        "#question no 2.\n",
        "n=eval(input(\"Enter a number:\"))\n",
        "for i in range(n):\n",
        "  if(n%2!=0):\n",
        "    n=n-2\n",
        "    print(n) \n",
        "    if (n==1):\n",
        "       break"
      ],
      "metadata": {
        "colab": {
          "base_uri": "https://localhost:8080/"
        },
        "id": "IaJJ7LsskJKt",
        "outputId": "de0b7c90-3a30-48d8-de8e-763100d5cdff"
      },
      "execution_count": 2,
      "outputs": [
        {
          "output_type": "stream",
          "name": "stdout",
          "text": [
            "Enter a number:9\n",
            "7\n",
            "5\n",
            "3\n",
            "1\n"
          ]
        }
      ]
    },
    {
      "cell_type": "code",
      "source": [
        "#question no 3.\n",
        "n = int(input(\"enter an odd number: \"))\n",
        "\n",
        "def add_odd_numbers(n):\n",
        "  s = 0\n",
        "  for i in range(n+1):\n",
        "    if (i % 2 != 0):\n",
        "       s = s+ i \n",
        "  print(s)\n",
        "\n",
        "add_odd_numbers(n)\n"
      ],
      "metadata": {
        "colab": {
          "base_uri": "https://localhost:8080/"
        },
        "id": "IOMHJgsCkPbc",
        "outputId": "5ed0fb3b-3a13-46cd-a51e-a0264aeddcba"
      },
      "execution_count": 3,
      "outputs": [
        {
          "output_type": "stream",
          "name": "stdout",
          "text": [
            "enter an odd number: 7\n",
            "16\n"
          ]
        }
      ]
    },
    {
      "cell_type": "code",
      "source": [
        "#question no 4.\n",
        "n = int(input(\"enter a  number: \"))\n",
        "\n",
        "def add_even_numbers(n):\n",
        "  s = 0\n",
        "  for i in range(n+1):\n",
        "    if i % 2 == 0 :\n",
        "     s = s + i\n",
        "  print(s)\n",
        "add_even_numbers(n)    \n"
      ],
      "metadata": {
        "colab": {
          "base_uri": "https://localhost:8080/"
        },
        "id": "_dclbv7FkPl8",
        "outputId": "c903591b-538b-4d95-f630-9a34d22c8906"
      },
      "execution_count": 8,
      "outputs": [
        {
          "output_type": "stream",
          "name": "stdout",
          "text": [
            "enter a  number: 4\n",
            "6\n"
          ]
        }
      ]
    },
    {
      "cell_type": "code",
      "source": [
        "#question no 5.\n",
        "n = eval(input(\"enter a positive number: \"))\n",
        "\n",
        "def if_even_if_odd(n):\n",
        "   n = abs(n)\n",
        "   for i in range(n+1):\n",
        "     if (n  % 2 == 0) :\n",
        "       print(n)\n",
        "       n = n-2\n",
        "       if n==0:\n",
        "         break\n",
        "   else:\n",
        "      print(n/2) \n",
        "\n",
        "       \n",
        "     \n",
        "  \n",
        " \n",
        "     \n",
        "\n",
        "\n",
        "if_even_if_odd(n)"
      ],
      "metadata": {
        "colab": {
          "base_uri": "https://localhost:8080/"
        },
        "id": "P2jM6J0BkPt2",
        "outputId": "d9eebf2d-3f75-4c7f-ed11-21b193266977"
      },
      "execution_count": 9,
      "outputs": [
        {
          "output_type": "stream",
          "name": "stdout",
          "text": [
            "enter a positive number: 7\n",
            "3.5\n"
          ]
        }
      ]
    },
    {
      "cell_type": "code",
      "source": [
        "#question no 6.\n",
        "a=eval(input(\"Enter a number\"))\n",
        "b=eval(input(\"Enter a number\"))\n",
        "c=eval(input(\"Enter a number\"))\n",
        "\n",
        "def foo(a,b,c):\n",
        "  if (a>b) and (a>c):\n",
        "    x=(b*b)+(c*c)\n",
        "    print(x)\n",
        "\n",
        "  elif(b>a) and (b>c):\n",
        "    y=(a*a)+(c*c)\n",
        "    print(y)\n",
        "\n",
        "  elif(c>a) and (c>b):\n",
        "    z=(a*a)+(b*b)\n",
        "    print(z)\n",
        "\n",
        "foo(a,b,c)"
      ],
      "metadata": {
        "colab": {
          "base_uri": "https://localhost:8080/"
        },
        "id": "aSK34mFklBpM",
        "outputId": "7b750599-f80c-414f-9adb-6b67a2f79b88"
      },
      "execution_count": 10,
      "outputs": [
        {
          "output_type": "stream",
          "name": "stdout",
          "text": [
            "Enter a number3\n",
            "Enter a number4\n",
            "Enter a number1\n",
            "10\n"
          ]
        }
      ]
    }
  ]
}