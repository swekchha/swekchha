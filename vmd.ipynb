{
  "nbformat": 4,
  "nbformat_minor": 0,
  "metadata": {
    "colab": {
      "provenance": [],
      "authorship_tag": "ABX9TyMeTSSzS0qRkgsW0t6DvKH0",
      "include_colab_link": true
    },
    "kernelspec": {
      "name": "python3",
      "display_name": "Python 3"
    },
    "language_info": {
      "name": "python"
    }
  },
  "cells": [
    {
      "cell_type": "markdown",
      "metadata": {
        "id": "view-in-github",
        "colab_type": "text"
      },
      "source": [
        "<a href=\"https://colab.research.google.com/github/swekchha/swekchha/blob/main/vmd.ipynb\" target=\"_parent\"><img src=\"https://colab.research.google.com/assets/colab-badge.svg\" alt=\"Open In Colab\"/></a>"
      ]
    },
    {
      "cell_type": "code",
      "execution_count": 1,
      "metadata": {
        "colab": {
          "base_uri": "https://localhost:8080/"
        },
        "id": "M7-oQQI4BtsL",
        "outputId": "ea287edd-07af-4f1d-d574-eeb6a7d1a1a1"
      },
      "outputs": [
        {
          "output_type": "stream",
          "name": "stdout",
          "text": [
            "Machine is out of stock.\n",
            "You must deposit $10more\n",
            "Currentcrabstock:2\n",
            "You must deposit $10more\n",
            "here is your $7\n",
            "here is your $12\n",
            "here is your $22\n"
          ]
        }
      ],
      "source": [
        "#question no 1\n",
        "class VendingMachine:\n",
        "  def __init__(self,obj,value):\n",
        "    self.obj = obj\n",
        "    self.value = value\n",
        "    self.st = 0\n",
        "    self.ba = 0\n",
        "  def deposit(self,bal):\n",
        "    if self.st == 0:\n",
        "      print(\"Machine is out of stock.\")\n",
        "    else:\n",
        "      self.ba = self.ba +bal\n",
        "      \n",
        "  def restock(self,amt):\n",
        "    self.st = self.st + amt\n",
        "    print(\"Current\"+self.obj+\"stock:\" + str(self.st)) \n",
        "\n",
        "  def vend(self):\n",
        "    if self.st == 0:\n",
        "      print(\"Machine is out of stock.\") \n",
        "    if self.ba >0:\n",
        "      print(\"here is your $\"+ str(self.ba))\n",
        "    else:\n",
        "      if self.ba>=self.value:\n",
        "       c = self.ba - self.value\n",
        "       self.ba = self.ba - self.value\n",
        "       if c>0:\n",
        "         print(\"Here is your\"+self.obj +\"and $\"+str(b)+\"change\")\n",
        "       else:\n",
        "         print(\"Here is your\" + self.obj)\n",
        "      else:\n",
        "        c = self.value - self.ba\n",
        "        print(\"You must deposit $\"+str(c)+\"more\")  \n",
        "v = VendingMachine(\"crab\",10)\n",
        "v.vend()\n",
        "v.restock(2)\n",
        "v.vend()\n",
        "v.deposit(7)\n",
        "v.vend()\n",
        "v.deposit(5)\n",
        "v.vend()\n",
        "v.deposit(10)\n",
        "v.vend()\n",
        "v.deposit(15)\n",
        "\n",
        "\n",
        "\n",
        "\n",
        "        \n",
        "\n",
        "\n",
        "    \n",
        "\n"
      ]
    }
  ]
}